{
 "cells": [
  {
   "cell_type": "code",
   "execution_count": 1,
   "id": "15fd5d6c-f38a-4f0d-be11-bf63fbefb889",
   "metadata": {},
   "outputs": [],
   "source": [
    "#AUTHORS: Nithin Prasad, Murtadha Nisyif, Arpit Vaghela\n",
    "\n",
    "### Class and Library Imports [FUNCTIONAL]\n",
    "import sklearn #Scikit Learn\n",
    "\n",
    "import pandas as pd\n",
    "import numpy as np\n",
    "\n",
    "import matplotlib.pyplot as plt\n",
    "import seaborn as sns\n",
    "from scipy.stats import norm\n",
    "from scipy import stats\n",
    "from pandas import read_csv\n",
    "from pandas import DataFrame\n",
    "\n",
    "from sklearn import preprocessing\n",
    "from sklearn.model_selection import train_test_split\n",
    "from sklearn import metrics\n",
    "from sklearn.preprocessing import StandardScaler, MinMaxScaler\n",
    "\n",
    "from sklearn.linear_model import LogisticRegression\n",
    "from sklearn.neighbors import KNeighborsClassifier\n",
    "from sklearn.naive_bayes import GaussianNB\n",
    "from sklearn.tree import DecisionTreeClassifier\n",
    "from sklearn.svm import SVC\n",
    "from sklearn.metrics import accuracy_score, f1_score, confusion_matrix, roc_curve, auc, RocCurveDisplay, classification_report\n",
    "import matplotlib.pyplot as plt\n",
    "\n",
    "from sklearn.model_selection import GridSearchCV\n",
    "\n",
    "from sklearn.feature_selection import SequentialFeatureSelector\n",
    "\n",
    "from imblearn.over_sampling import SMOTE\n",
    "\n",
    "import random\n",
    "\n",
    "import matplotlib.pyplot as plt\n",
    "\n",
    "pd.set_option('display.max_columns', None)"
   ]
  },
  {
   "cell_type": "code",
   "execution_count": 2,
   "id": "0b950702-2346-4d52-96f2-d572f4e7c063",
   "metadata": {},
   "outputs": [
    {
     "name": "stdout",
     "output_type": "stream",
     "text": [
      "Hello\n"
     ]
    },
    {
     "ename": "FileNotFoundError",
     "evalue": "[Errno 2] No such file or directory: 'data/hmnist_28_28_L.csv'",
     "output_type": "error",
     "traceback": [
      "\u001b[1;31m---------------------------------------------------------------------------\u001b[0m",
      "\u001b[1;31mFileNotFoundError\u001b[0m                         Traceback (most recent call last)",
      "Cell \u001b[1;32mIn[2], line 4\u001b[0m\n\u001b[0;32m      1\u001b[0m \u001b[38;5;66;03m### Data Exploration with the 28x28 image csv [FUNCTIONAL]\u001b[39;00m\n\u001b[0;32m      3\u001b[0m \u001b[38;5;28mprint\u001b[39m(\u001b[38;5;124m\"\u001b[39m\u001b[38;5;124mHello\u001b[39m\u001b[38;5;124m\"\u001b[39m)\n\u001b[1;32m----> 4\u001b[0m project_df \u001b[38;5;241m=\u001b[39m pd\u001b[38;5;241m.\u001b[39mread_csv(\u001b[38;5;124m'\u001b[39m\u001b[38;5;124mdata/hmnist_28_28_L.csv\u001b[39m\u001b[38;5;124m'\u001b[39m)\n\u001b[0;32m      5\u001b[0m project_df\u001b[38;5;241m.\u001b[39mhead(n\u001b[38;5;241m=\u001b[39m\u001b[38;5;241m4\u001b[39m)\n\u001b[0;32m      6\u001b[0m \u001b[38;5;28mprint\u001b[39m(project_df\u001b[38;5;241m.\u001b[39minfo())\n",
      "File \u001b[1;32mD:\\Anaconda\\Lib\\site-packages\\pandas\\util\\_decorators.py:211\u001b[0m, in \u001b[0;36mdeprecate_kwarg.<locals>._deprecate_kwarg.<locals>.wrapper\u001b[1;34m(*args, **kwargs)\u001b[0m\n\u001b[0;32m    209\u001b[0m     \u001b[38;5;28;01melse\u001b[39;00m:\n\u001b[0;32m    210\u001b[0m         kwargs[new_arg_name] \u001b[38;5;241m=\u001b[39m new_arg_value\n\u001b[1;32m--> 211\u001b[0m \u001b[38;5;28;01mreturn\u001b[39;00m func(\u001b[38;5;241m*\u001b[39margs, \u001b[38;5;241m*\u001b[39m\u001b[38;5;241m*\u001b[39mkwargs)\n",
      "File \u001b[1;32mD:\\Anaconda\\Lib\\site-packages\\pandas\\util\\_decorators.py:331\u001b[0m, in \u001b[0;36mdeprecate_nonkeyword_arguments.<locals>.decorate.<locals>.wrapper\u001b[1;34m(*args, **kwargs)\u001b[0m\n\u001b[0;32m    325\u001b[0m \u001b[38;5;28;01mif\u001b[39;00m \u001b[38;5;28mlen\u001b[39m(args) \u001b[38;5;241m>\u001b[39m num_allow_args:\n\u001b[0;32m    326\u001b[0m     warnings\u001b[38;5;241m.\u001b[39mwarn(\n\u001b[0;32m    327\u001b[0m         msg\u001b[38;5;241m.\u001b[39mformat(arguments\u001b[38;5;241m=\u001b[39m_format_argument_list(allow_args)),\n\u001b[0;32m    328\u001b[0m         \u001b[38;5;167;01mFutureWarning\u001b[39;00m,\n\u001b[0;32m    329\u001b[0m         stacklevel\u001b[38;5;241m=\u001b[39mfind_stack_level(),\n\u001b[0;32m    330\u001b[0m     )\n\u001b[1;32m--> 331\u001b[0m \u001b[38;5;28;01mreturn\u001b[39;00m func(\u001b[38;5;241m*\u001b[39margs, \u001b[38;5;241m*\u001b[39m\u001b[38;5;241m*\u001b[39mkwargs)\n",
      "File \u001b[1;32mD:\\Anaconda\\Lib\\site-packages\\pandas\\io\\parsers\\readers.py:950\u001b[0m, in \u001b[0;36mread_csv\u001b[1;34m(filepath_or_buffer, sep, delimiter, header, names, index_col, usecols, squeeze, prefix, mangle_dupe_cols, dtype, engine, converters, true_values, false_values, skipinitialspace, skiprows, skipfooter, nrows, na_values, keep_default_na, na_filter, verbose, skip_blank_lines, parse_dates, infer_datetime_format, keep_date_col, date_parser, dayfirst, cache_dates, iterator, chunksize, compression, thousands, decimal, lineterminator, quotechar, quoting, doublequote, escapechar, comment, encoding, encoding_errors, dialect, error_bad_lines, warn_bad_lines, on_bad_lines, delim_whitespace, low_memory, memory_map, float_precision, storage_options)\u001b[0m\n\u001b[0;32m    935\u001b[0m kwds_defaults \u001b[38;5;241m=\u001b[39m _refine_defaults_read(\n\u001b[0;32m    936\u001b[0m     dialect,\n\u001b[0;32m    937\u001b[0m     delimiter,\n\u001b[1;32m   (...)\u001b[0m\n\u001b[0;32m    946\u001b[0m     defaults\u001b[38;5;241m=\u001b[39m{\u001b[38;5;124m\"\u001b[39m\u001b[38;5;124mdelimiter\u001b[39m\u001b[38;5;124m\"\u001b[39m: \u001b[38;5;124m\"\u001b[39m\u001b[38;5;124m,\u001b[39m\u001b[38;5;124m\"\u001b[39m},\n\u001b[0;32m    947\u001b[0m )\n\u001b[0;32m    948\u001b[0m kwds\u001b[38;5;241m.\u001b[39mupdate(kwds_defaults)\n\u001b[1;32m--> 950\u001b[0m \u001b[38;5;28;01mreturn\u001b[39;00m _read(filepath_or_buffer, kwds)\n",
      "File \u001b[1;32mD:\\Anaconda\\Lib\\site-packages\\pandas\\io\\parsers\\readers.py:605\u001b[0m, in \u001b[0;36m_read\u001b[1;34m(filepath_or_buffer, kwds)\u001b[0m\n\u001b[0;32m    602\u001b[0m _validate_names(kwds\u001b[38;5;241m.\u001b[39mget(\u001b[38;5;124m\"\u001b[39m\u001b[38;5;124mnames\u001b[39m\u001b[38;5;124m\"\u001b[39m, \u001b[38;5;28;01mNone\u001b[39;00m))\n\u001b[0;32m    604\u001b[0m \u001b[38;5;66;03m# Create the parser.\u001b[39;00m\n\u001b[1;32m--> 605\u001b[0m parser \u001b[38;5;241m=\u001b[39m TextFileReader(filepath_or_buffer, \u001b[38;5;241m*\u001b[39m\u001b[38;5;241m*\u001b[39mkwds)\n\u001b[0;32m    607\u001b[0m \u001b[38;5;28;01mif\u001b[39;00m chunksize \u001b[38;5;129;01mor\u001b[39;00m iterator:\n\u001b[0;32m    608\u001b[0m     \u001b[38;5;28;01mreturn\u001b[39;00m parser\n",
      "File \u001b[1;32mD:\\Anaconda\\Lib\\site-packages\\pandas\\io\\parsers\\readers.py:1442\u001b[0m, in \u001b[0;36mTextFileReader.__init__\u001b[1;34m(self, f, engine, **kwds)\u001b[0m\n\u001b[0;32m   1439\u001b[0m     \u001b[38;5;28mself\u001b[39m\u001b[38;5;241m.\u001b[39moptions[\u001b[38;5;124m\"\u001b[39m\u001b[38;5;124mhas_index_names\u001b[39m\u001b[38;5;124m\"\u001b[39m] \u001b[38;5;241m=\u001b[39m kwds[\u001b[38;5;124m\"\u001b[39m\u001b[38;5;124mhas_index_names\u001b[39m\u001b[38;5;124m\"\u001b[39m]\n\u001b[0;32m   1441\u001b[0m \u001b[38;5;28mself\u001b[39m\u001b[38;5;241m.\u001b[39mhandles: IOHandles \u001b[38;5;241m|\u001b[39m \u001b[38;5;28;01mNone\u001b[39;00m \u001b[38;5;241m=\u001b[39m \u001b[38;5;28;01mNone\u001b[39;00m\n\u001b[1;32m-> 1442\u001b[0m \u001b[38;5;28mself\u001b[39m\u001b[38;5;241m.\u001b[39m_engine \u001b[38;5;241m=\u001b[39m \u001b[38;5;28mself\u001b[39m\u001b[38;5;241m.\u001b[39m_make_engine(f, \u001b[38;5;28mself\u001b[39m\u001b[38;5;241m.\u001b[39mengine)\n",
      "File \u001b[1;32mD:\\Anaconda\\Lib\\site-packages\\pandas\\io\\parsers\\readers.py:1735\u001b[0m, in \u001b[0;36mTextFileReader._make_engine\u001b[1;34m(self, f, engine)\u001b[0m\n\u001b[0;32m   1733\u001b[0m     \u001b[38;5;28;01mif\u001b[39;00m \u001b[38;5;124m\"\u001b[39m\u001b[38;5;124mb\u001b[39m\u001b[38;5;124m\"\u001b[39m \u001b[38;5;129;01mnot\u001b[39;00m \u001b[38;5;129;01min\u001b[39;00m mode:\n\u001b[0;32m   1734\u001b[0m         mode \u001b[38;5;241m+\u001b[39m\u001b[38;5;241m=\u001b[39m \u001b[38;5;124m\"\u001b[39m\u001b[38;5;124mb\u001b[39m\u001b[38;5;124m\"\u001b[39m\n\u001b[1;32m-> 1735\u001b[0m \u001b[38;5;28mself\u001b[39m\u001b[38;5;241m.\u001b[39mhandles \u001b[38;5;241m=\u001b[39m get_handle(\n\u001b[0;32m   1736\u001b[0m     f,\n\u001b[0;32m   1737\u001b[0m     mode,\n\u001b[0;32m   1738\u001b[0m     encoding\u001b[38;5;241m=\u001b[39m\u001b[38;5;28mself\u001b[39m\u001b[38;5;241m.\u001b[39moptions\u001b[38;5;241m.\u001b[39mget(\u001b[38;5;124m\"\u001b[39m\u001b[38;5;124mencoding\u001b[39m\u001b[38;5;124m\"\u001b[39m, \u001b[38;5;28;01mNone\u001b[39;00m),\n\u001b[0;32m   1739\u001b[0m     compression\u001b[38;5;241m=\u001b[39m\u001b[38;5;28mself\u001b[39m\u001b[38;5;241m.\u001b[39moptions\u001b[38;5;241m.\u001b[39mget(\u001b[38;5;124m\"\u001b[39m\u001b[38;5;124mcompression\u001b[39m\u001b[38;5;124m\"\u001b[39m, \u001b[38;5;28;01mNone\u001b[39;00m),\n\u001b[0;32m   1740\u001b[0m     memory_map\u001b[38;5;241m=\u001b[39m\u001b[38;5;28mself\u001b[39m\u001b[38;5;241m.\u001b[39moptions\u001b[38;5;241m.\u001b[39mget(\u001b[38;5;124m\"\u001b[39m\u001b[38;5;124mmemory_map\u001b[39m\u001b[38;5;124m\"\u001b[39m, \u001b[38;5;28;01mFalse\u001b[39;00m),\n\u001b[0;32m   1741\u001b[0m     is_text\u001b[38;5;241m=\u001b[39mis_text,\n\u001b[0;32m   1742\u001b[0m     errors\u001b[38;5;241m=\u001b[39m\u001b[38;5;28mself\u001b[39m\u001b[38;5;241m.\u001b[39moptions\u001b[38;5;241m.\u001b[39mget(\u001b[38;5;124m\"\u001b[39m\u001b[38;5;124mencoding_errors\u001b[39m\u001b[38;5;124m\"\u001b[39m, \u001b[38;5;124m\"\u001b[39m\u001b[38;5;124mstrict\u001b[39m\u001b[38;5;124m\"\u001b[39m),\n\u001b[0;32m   1743\u001b[0m     storage_options\u001b[38;5;241m=\u001b[39m\u001b[38;5;28mself\u001b[39m\u001b[38;5;241m.\u001b[39moptions\u001b[38;5;241m.\u001b[39mget(\u001b[38;5;124m\"\u001b[39m\u001b[38;5;124mstorage_options\u001b[39m\u001b[38;5;124m\"\u001b[39m, \u001b[38;5;28;01mNone\u001b[39;00m),\n\u001b[0;32m   1744\u001b[0m )\n\u001b[0;32m   1745\u001b[0m \u001b[38;5;28;01massert\u001b[39;00m \u001b[38;5;28mself\u001b[39m\u001b[38;5;241m.\u001b[39mhandles \u001b[38;5;129;01mis\u001b[39;00m \u001b[38;5;129;01mnot\u001b[39;00m \u001b[38;5;28;01mNone\u001b[39;00m\n\u001b[0;32m   1746\u001b[0m f \u001b[38;5;241m=\u001b[39m \u001b[38;5;28mself\u001b[39m\u001b[38;5;241m.\u001b[39mhandles\u001b[38;5;241m.\u001b[39mhandle\n",
      "File \u001b[1;32mD:\\Anaconda\\Lib\\site-packages\\pandas\\io\\common.py:856\u001b[0m, in \u001b[0;36mget_handle\u001b[1;34m(path_or_buf, mode, encoding, compression, memory_map, is_text, errors, storage_options)\u001b[0m\n\u001b[0;32m    851\u001b[0m \u001b[38;5;28;01melif\u001b[39;00m \u001b[38;5;28misinstance\u001b[39m(handle, \u001b[38;5;28mstr\u001b[39m):\n\u001b[0;32m    852\u001b[0m     \u001b[38;5;66;03m# Check whether the filename is to be opened in binary mode.\u001b[39;00m\n\u001b[0;32m    853\u001b[0m     \u001b[38;5;66;03m# Binary mode does not support 'encoding' and 'newline'.\u001b[39;00m\n\u001b[0;32m    854\u001b[0m     \u001b[38;5;28;01mif\u001b[39;00m ioargs\u001b[38;5;241m.\u001b[39mencoding \u001b[38;5;129;01mand\u001b[39;00m \u001b[38;5;124m\"\u001b[39m\u001b[38;5;124mb\u001b[39m\u001b[38;5;124m\"\u001b[39m \u001b[38;5;129;01mnot\u001b[39;00m \u001b[38;5;129;01min\u001b[39;00m ioargs\u001b[38;5;241m.\u001b[39mmode:\n\u001b[0;32m    855\u001b[0m         \u001b[38;5;66;03m# Encoding\u001b[39;00m\n\u001b[1;32m--> 856\u001b[0m         handle \u001b[38;5;241m=\u001b[39m \u001b[38;5;28mopen\u001b[39m(\n\u001b[0;32m    857\u001b[0m             handle,\n\u001b[0;32m    858\u001b[0m             ioargs\u001b[38;5;241m.\u001b[39mmode,\n\u001b[0;32m    859\u001b[0m             encoding\u001b[38;5;241m=\u001b[39mioargs\u001b[38;5;241m.\u001b[39mencoding,\n\u001b[0;32m    860\u001b[0m             errors\u001b[38;5;241m=\u001b[39merrors,\n\u001b[0;32m    861\u001b[0m             newline\u001b[38;5;241m=\u001b[39m\u001b[38;5;124m\"\u001b[39m\u001b[38;5;124m\"\u001b[39m,\n\u001b[0;32m    862\u001b[0m         )\n\u001b[0;32m    863\u001b[0m     \u001b[38;5;28;01melse\u001b[39;00m:\n\u001b[0;32m    864\u001b[0m         \u001b[38;5;66;03m# Binary mode\u001b[39;00m\n\u001b[0;32m    865\u001b[0m         handle \u001b[38;5;241m=\u001b[39m \u001b[38;5;28mopen\u001b[39m(handle, ioargs\u001b[38;5;241m.\u001b[39mmode)\n",
      "\u001b[1;31mFileNotFoundError\u001b[0m: [Errno 2] No such file or directory: 'data/hmnist_28_28_L.csv'"
     ]
    }
   ],
   "source": [
    "### Data Exploration with the 28x28 image csv [FUNCTIONAL]\n",
    "\n",
    "print(\"Hello\")\n",
    "project_df = pd.read_csv('data/hmnist_28_28_L.csv')\n",
    "project_df.head(n=4)\n",
    "print(project_df.info())"
   ]
  },
  {
   "cell_type": "code",
   "execution_count": 5,
   "id": "ff3d32b6-e24a-4031-91ac-74e4bfb20a21",
   "metadata": {},
   "outputs": [
    {
     "name": "stdout",
     "output_type": "stream",
     "text": [
      "----- LABEL CHECK -----\n",
      "Number of labels of class 0 : 327\n",
      "Number of labels of class 1 : 514\n",
      "Number of labels of class 2 : 1099\n",
      "Number of labels of class 3 : 115\n",
      "Number of labels of class 4 : 6705\n",
      "Number of labels of class 5 : 142\n",
      "Number of labels of class 6 : 1113\n",
      "Total number of labels: 10015\n"
     ]
    }
   ],
   "source": [
    "### Check Dataset Balance [FUNCTIONAL]\n",
    "pixel_features = []\n",
    "for i in range(784):\n",
    "    str_i = str(i)\n",
    "    len_suffix = len(str_i)\n",
    "    pixel_feature = \"pixel\" + \"0\"*(4-len_suffix) + str_i\n",
    "    #print(pixel_name)\n",
    "    pixel_features.append(pixel_feature)\n",
    "\n",
    "#X = project_df.drop('label', axis = 1)\n",
    "Y = project_df['label']\n",
    "\n",
    "#Double check the number of Labels in set\n",
    "def check_set_balance(inp_set):\n",
    "    val_counts = inp_set.value_counts()\n",
    "    total_labels = 0\n",
    "    #print(type(val_counts))\n",
    "    for i in range(7):\n",
    "        num_i = val_counts[i]\n",
    "        print(\"Number of labels of class\",i,\":\",num_i)\n",
    "        total_labels += num_i\n",
    "        \n",
    "    print(\"Total number of labels:\",total_labels)\n",
    "\n",
    "print('----- LABEL CHECK -----')\n",
    "check_set_balance(Y)"
   ]
  },
  {
   "cell_type": "code",
   "execution_count": 6,
   "id": "04efba8e-a6a4-49fc-a523-5572bcb2b049",
   "metadata": {},
   "outputs": [
    {
     "name": "stdout",
     "output_type": "stream",
     "text": [
      "785\n",
      "<class 'list'>\n",
      "[20, 24, 76, 131, 156, 169, 175, 185, 194, 190, 191, 190, 192, 186, 187, 188, 189, 184, 185, 180, 173, 136, 98, 59, 53, 56, 44, 30, 16, 49, 110, 156, 171, 168, 177, 189, 195, 197, 196, 194, 184, 189, 186, 187, 185, 181, 183, 193, 192, 166, 135, 83, 48, 55, 49, 34, 25, 87, 142, 175, 183, 173, 178, 191, 197, 205, 195, 175, 166, 168, 184, 178, 181, 184, 183, 195, 191, 183, 160, 112, 56, 47, 51, 39, 47, 116, 161, 184, 190, 185, 195, 190, 181, 197, 179, 167, 166, 163, 171, 170, 169, 170, 181, 192, 188, 187, 165, 136, 80, 44, 49, 42, 83, 138, 174, 188, 196, 190, 194, 178, 169, 171, 171, 175, 167, 165, 163, 164, 155, 161, 176, 186, 190, 178, 171, 154, 110, 51, 44, 44, 113, 157, 179, 191, 192, 197, 187, 168, 176, 176, 176, 179, 172, 161, 163, 163, 159, 162, 176, 179, 185, 178, 177, 175, 136, 69, 38, 43, 134, 165, 180, 187, 197, 191, 188, 170, 175, 176, 174, 180, 183, 167, 166, 175, 167, 164, 179, 185, 182, 189, 196, 189, 153, 86, 37, 39, 148, 171, 178, 190, 202, 197, 194, 170, 169, 180, 175, 177, 185, 182, 171, 178, 176, 162, 175, 180, 186, 198, 201, 199, 169, 106, 43, 35, 155, 170, 180, 197, 202, 200, 181, 164, 169, 181, 183, 180, 179, 185, 176, 171, 171, 154, 173, 181, 198, 200, 195, 201, 178, 128, 51, 30, 163, 174, 181, 195, 203, 194, 176, 162, 166, 179, 187, 185, 183, 174, 176, 171, 152, 158, 186, 191, 195, 197, 193, 193, 187, 138, 60, 28, 173, 181, 181, 191, 203, 185, 169, 159, 160, 175, 191, 194, 186, 171, 164, 174, 168, 188, 194, 195, 191, 197, 192, 196, 181, 139, 66, 25, 173, 186, 185, 192, 201, 194, 168, 167, 167, 178, 189, 180, 193, 195, 177, 177, 191, 198, 194, 195, 187, 185, 190, 192, 179, 146, 75, 23, 170, 182, 194, 197, 193, 201, 190, 167, 171, 162, 173, 172, 198, 205, 198, 186, 183, 201, 202, 191, 186, 182, 192, 190, 188, 160, 82, 22, 170, 180, 191, 194, 168, 180, 192, 174, 179, 157, 180, 190, 188, 198, 182, 175, 190, 196, 192, 188, 188, 183, 195, 192, 186, 160, 86, 20, 174, 180, 184, 200, 200, 188, 175, 180, 184, 176, 189, 193, 191, 184, 177, 181, 189, 188, 184, 181, 179, 180, 187, 188, 185, 155, 82, 18, 167, 187, 192, 193, 204, 197, 173, 172, 182, 183, 183, 190, 190, 184, 179, 186, 178, 185, 185, 177, 183, 191, 182, 175, 189, 149, 72, 15, 169, 187, 193, 196, 200, 191, 185, 173, 175, 181, 177, 166, 193, 188, 191, 188, 173, 170, 177, 176, 194, 197, 189, 190, 189, 150, 62, 13, 167, 184, 192, 203, 202, 199, 191, 172, 172, 186, 179, 152, 177, 176, 191, 188, 170, 174, 164, 175, 205, 204, 194, 192, 182, 145, 51, 11, 157, 185, 191, 200, 208, 207, 186, 171, 164, 181, 174, 162, 169, 178, 183, 183, 182, 170, 165, 174, 197, 206, 195, 192, 172, 130, 38, 11, 141, 179, 186, 184, 199, 204, 202, 167, 156, 171, 164, 167, 157, 157, 177, 180, 171, 163, 168, 175, 200, 202, 195, 197, 170, 112, 29, 11, 125, 172, 184, 181, 184, 198, 203, 169, 164, 173, 160, 157, 153, 157, 176, 179, 165, 158, 168, 180, 200, 198, 192, 193, 161, 95, 22, 10, 103, 157, 181, 184, 192, 195, 197, 198, 207, 184, 154, 149, 151, 151, 178, 176, 158, 156, 167, 181, 198, 187, 179, 174, 134, 63, 12, 12, 81, 131, 171, 183, 187, 193, 196, 198, 203, 194, 154, 140, 133, 161, 172, 165, 155, 152, 159, 179, 189, 178, 179, 155, 98, 26, 12, 10, 63, 114, 155, 177, 181, 189, 198, 196, 201, 198, 169, 143, 140, 161, 162, 162, 154, 155, 165, 183, 182, 178, 168, 133, 63, 14, 15, 7, 52, 85, 132, 166, 185, 182, 192, 195, 198, 196, 189, 158, 150, 160, 164, 162, 146, 153, 180, 183, 173, 171, 152, 101, 30, 16, 14, 5, 53, 60, 107, 153, 175, 175, 185, 186, 193, 190, 199, 186, 164, 174, 170, 156, 137, 151, 174, 173, 170, 155, 122, 56, 17, 19, 10, 3, 56, 55, 73, 117, 153, 176, 178, 188, 189, 180, 187, 197, 186, 185, 182, 168, 165, 164, 171, 172, 161, 126, 71, 24, 21, 17, 7, 2, 51, 59, 56, 81, 124, 155, 169, 180, 185, 178, 166, 188, 182, 183, 186, 180, 180, 165, 155, 159, 129, 82, 35, 23, 22, 13, 4, 3, 0]\n",
      "[20, 24, 76, 131, 156, 169, 175, 185, 194, 190, 191, 190, 192, 186, 187, 188, 189, 184, 185, 180, 173, 136, 98, 59, 53, 56, 44, 30, 16, 49, 110, 156, 171, 168, 177, 189, 195, 197, 196, 194, 184, 189, 186, 187, 185, 181, 183, 193, 192, 166, 135, 83, 48, 55, 49, 34, 25, 87, 142, 175, 183, 173, 178, 191, 197, 205, 195, 175, 166, 168, 184, 178, 181, 184, 183, 195, 191, 183, 160, 112, 56, 47, 51, 39, 47, 116, 161, 184, 190, 185, 195, 190, 181, 197, 179, 167, 166, 163, 171, 170, 169, 170, 181, 192, 188, 187, 165, 136, 80, 44, 49, 42, 83, 138, 174, 188, 196, 190, 194, 178, 169, 171, 171, 175, 167, 165, 163, 164, 155, 161, 176, 186, 190, 178, 171, 154, 110, 51, 44, 44, 113, 157, 179, 191, 192, 197, 187, 168, 176, 176, 176, 179, 172, 161, 163, 163, 159, 162, 176, 179, 185, 178, 177, 175, 136, 69, 38, 43, 134, 165, 180, 187, 197, 191, 188, 170, 175, 176, 174, 180, 183, 167, 166, 175, 167, 164, 179, 185, 182, 189, 196, 189, 153, 86, 37, 39, 148, 171, 178, 190, 202, 197, 194, 170, 169, 180, 175, 177, 185, 182, 171, 178, 176, 162, 175, 180, 186, 198, 201, 199, 169, 106, 43, 35, 155, 170, 180, 197, 202, 200, 181, 164, 169, 181, 183, 180, 179, 185, 176, 171, 171, 154, 173, 181, 198, 200, 195, 201, 178, 128, 51, 30, 163, 174, 181, 195, 203, 194, 176, 162, 166, 179, 187, 185, 183, 174, 176, 171, 152, 158, 186, 191, 195, 197, 193, 193, 187, 138, 60, 28, 173, 181, 181, 191, 203, 185, 169, 159, 160, 175, 191, 194, 186, 171, 164, 174, 168, 188, 194, 195, 191, 197, 192, 196, 181, 139, 66, 25, 173, 186, 185, 192, 201, 194, 168, 167, 167, 178, 189, 180, 193, 195, 177, 177, 191, 198, 194, 195, 187, 185, 190, 192, 179, 146, 75, 23, 170, 182, 194, 197, 193, 201, 190, 167, 171, 162, 173, 172, 198, 205, 198, 186, 183, 201, 202, 191, 186, 182, 192, 190, 188, 160, 82, 22, 170, 180, 191, 194, 168, 180, 192, 174, 179, 157, 180, 190, 188, 198, 182, 175, 190, 196, 192, 188, 188, 183, 195, 192, 186, 160, 86, 20, 174, 180, 184, 200, 200, 188, 175, 180, 184, 176, 189, 193, 191, 184, 177, 181, 189, 188, 184, 181, 179, 180, 187, 188, 185, 155, 82, 18, 167, 187, 192, 193, 204, 197, 173, 172, 182, 183, 183, 190, 190, 184, 179, 186, 178, 185, 185, 177, 183, 191, 182, 175, 189, 149, 72, 15, 169, 187, 193, 196, 200, 191, 185, 173, 175, 181, 177, 166, 193, 188, 191, 188, 173, 170, 177, 176, 194, 197, 189, 190, 189, 150, 62, 13, 167, 184, 192, 203, 202, 199, 191, 172, 172, 186, 179, 152, 177, 176, 191, 188, 170, 174, 164, 175, 205, 204, 194, 192, 182, 145, 51, 11, 157, 185, 191, 200, 208, 207, 186, 171, 164, 181, 174, 162, 169, 178, 183, 183, 182, 170, 165, 174, 197, 206, 195, 192, 172, 130, 38, 11, 141, 179, 186, 184, 199, 204, 202, 167, 156, 171, 164, 167, 157, 157, 177, 180, 171, 163, 168, 175, 200, 202, 195, 197, 170, 112, 29, 11, 125, 172, 184, 181, 184, 198, 203, 169, 164, 173, 160, 157, 153, 157, 176, 179, 165, 158, 168, 180, 200, 198, 192, 193, 161, 95, 22, 10, 103, 157, 181, 184, 192, 195, 197, 198, 207, 184, 154, 149, 151, 151, 178, 176, 158, 156, 167, 181, 198, 187, 179, 174, 134, 63, 12, 12, 81, 131, 171, 183, 187, 193, 196, 198, 203, 194, 154, 140, 133, 161, 172, 165, 155, 152, 159, 179, 189, 178, 179, 155, 98, 26, 12, 10, 63, 114, 155, 177, 181, 189, 198, 196, 201, 198, 169, 143, 140, 161, 162, 162, 154, 155, 165, 183, 182, 178, 168, 133, 63, 14, 15, 7, 52, 85, 132, 166, 185, 182, 192, 195, 198, 196, 189, 158, 150, 160, 164, 162, 146, 153, 180, 183, 173, 171, 152, 101, 30, 16, 14, 5, 53, 60, 107, 153, 175, 175, 185, 186, 193, 190, 199, 186, 164, 174, 170, 156, 137, 151, 174, 173, 170, 155, 122, 56, 17, 19, 10, 3, 56, 55, 73, 117, 153, 176, 178, 188, 189, 180, 187, 197, 186, 185, 182, 168, 165, 164, 171, 172, 161, 126, 71, 24, 21, 17, 7, 2, 51, 59, 56, 81, 124, 155, 169, 180, 185, 178, 166, 188, 182, 183, 186, 180, 180, 165, 155, 159, 129, 82, 35, 23, 22, 13, 4, 3]\n"
     ]
    },
    {
     "data": {
      "image/png": "[encoded data removed]",
      "text/plain": [
       "<Figure size 640x480 with 1 Axes>"
      ]
     },
     "metadata": {},
     "output_type": "display_data"
    }
   ],
   "source": [
    "### Get and Display a sample row of the data [DEMO]\n",
    "project_df.loc[project_df['label'] == 0]\n",
    "sample_image_vec = list(project_df.iloc[9687])\n",
    "print(len(sample_image_vec))\n",
    "print(type(sample_image_vec))\n",
    "print(sample_image_vec)\n",
    "sample_image_vec.pop(-1)\n",
    "print(sample_image_vec)\n",
    "sample_image_vec = np.array(sample_image_vec)\n",
    "sample_image = np.reshape(sample_image_vec,(28,28))\n",
    "#print(sample_image)\n",
    "plt.imshow(sample_image,cmap='gray')\n",
    "plt.title('Grayscale Image')\n",
    "plt.axis('off')\n",
    "plt.show()"
   ]
  },
  {
   "cell_type": "code",
   "execution_count": 9,
   "id": "0d16c6ae-9822-40a2-9745-506217f78787",
   "metadata": {},
   "outputs": [
    {
     "name": "stdout",
     "output_type": "stream",
     "text": [
      "1892\n",
      "<class 'pandas.core.frame.DataFrame'>\n",
      "Index: 1892 entries, 0 to 10014\n",
      "Columns: 785 entries, pixel0000 to label\n",
      "dtypes: int64(785)\n",
      "memory usage: 11.3 MB\n",
      "None\n"
     ]
    }
   ],
   "source": [
    "### Employ a pseudo-balancing of the data.\n",
    "### Uses all of Class 3 (115 images), Class 5 (142 images) and only 327 random images from classes [0,1,2,4,6].\n",
    "\n",
    "row_indices = []\n",
    "\n",
    "for label_i in range(7):\n",
    "    # Find all the rows of the dataframe corresponding to label i\n",
    "    rows_of_i = project_df.loc[project_df['label'] == label_i]\n",
    "    indices_of_i = list(rows_of_i.index)\n",
    "    indices_of_i_random = random.sample(indices_of_i,min(327,len(rows_of_i)))\n",
    "\n",
    "    row_indices.extend(indices_of_i_random)\n",
    "\n",
    "row_indices.sort()\n",
    "\n",
    "print(len(row_indices)) #Should print 1892.\n",
    "\n",
    "working_df = project_df.iloc[row_indices]\n",
    "print(working_df.info())\n",
    "# print(working_df.head(n=5))\n",
    "\n",
    "### save the working df as a csv file\n",
    "# working_df.to_csv(\"./data/skin_cancer_dataset.csv\", index=False)"
   ]
  },
  {
   "cell_type": "code",
   "execution_count": 4,
   "id": "7bf10dcc-dda9-4a15-9e06-d87c9dc584ac",
   "metadata": {},
   "outputs": [
    {
     "data": {
      "text/plain": [
       "(1135, 378, 379)"
      ]
     },
     "execution_count": 4,
     "metadata": {},
     "output_type": "execute_result"
    }
   ],
   "source": [
    "### Do Train-Validation-Test Split on the Data (eg. 60/20/20)\n",
    "\n",
    "#read csv\n",
    "df = pd.read_csv('./data/skin_cancer_dataset.csv')\n",
    "\n",
    "#separate the features and labels\n",
    "X = df.drop(columns=['label'])\n",
    "y = df['label']\n",
    "\n",
    "#split 60-40 for training dataset and a temp dataset that will be split to 50-50\n",
    "X_train, X_temp, y_train, y_temp = train_test_split(X, y, test_size=0.4, random_state=42)\n",
    "\n",
    "# Second split of the temporary set: 50% for validation and 50% for test set\n",
    "X_val, X_test, y_val, y_test = train_test_split(X_temp, y_temp, test_size=0.5, random_state=42)\n",
    "\n",
    "#sanity check\n",
    "sizes = (len(X_train), len(X_val), len(X_test))\n",
    "sizes"
   ]
  },
  {
   "cell_type": "code",
   "execution_count": 5,
   "id": "ffed339d-a3f0-43b9-bbf8-f9a8d94b2299",
   "metadata": {},
   "outputs": [],
   "source": [
    "### Apply PCA (fit the PCA matrix using ONLY the training portion of the dataset). Transform each separately\n",
    "from sklearn.decomposition import PCA\n",
    "\n",
    "# fit pca on the training set only\n",
    "pca = PCA(n_components=0.90, random_state=42)\n",
    "X_train_pca = pca.fit_transform(X_train)\n",
    "\n",
    "#sanity check\n",
    "X_train_pca.shape\n",
    "\n",
    "X_test_pca = pca.transform(X_test)\n",
    "\n",
    "X_val_pca = pca.transform(X_val)\n"
   ]
  },
  {
   "cell_type": "code",
   "execution_count": 6,
   "id": "67f8817c-0e63-429e-bacf-0f035c85b6aa",
   "metadata": {},
   "outputs": [
    {
     "name": "stderr",
     "output_type": "stream",
     "text": [
      "D:\\Anaconda\\Lib\\site-packages\\sklearn\\neural_network\\_multilayer_perceptron.py:691: ConvergenceWarning: Stochastic Optimizer: Maximum iterations (200) reached and the optimization hasn't converged yet.\n",
      "  warnings.warn(\n"
     ]
    },
    {
     "data": {
      "text/html": [
       "<style>#sk-container-id-1 {color: black;}#sk-container-id-1 pre{padding: 0;}#sk-container-id-1 div.sk-toggleable {background-color: white;}#sk-container-id-1 label.sk-toggleable__label {cursor: pointer;display: block;width: 100%;margin-bottom: 0;padding: 0.3em;box-sizing: border-box;text-align: center;}#sk-container-id-1 label.sk-toggleable__label-arrow:before {content: \"▸\";float: left;margin-right: 0.25em;color: #696969;}#sk-container-id-1 label.sk-toggleable__label-arrow:hover:before {color: black;}#sk-container-id-1 div.sk-estimator:hover label.sk-toggleable__label-arrow:before {color: black;}#sk-container-id-1 div.sk-toggleable__content {max-height: 0;max-width: 0;overflow: hidden;text-align: left;background-color: #f0f8ff;}#sk-container-id-1 div.sk-toggleable__content pre {margin: 0.2em;color: black;border-radius: 0.25em;background-color: #f0f8ff;}#sk-container-id-1 input.sk-toggleable__control:checked~div.sk-toggleable__content {max-height: 200px;max-width: 100%;overflow: auto;}#sk-container-id-1 input.sk-toggleable__control:checked~label.sk-toggleable__label-arrow:before {content: \"▾\";}#sk-container-id-1 div.sk-estimator input.sk-toggleable__control:checked~label.sk-toggleable__label {background-color: #d4ebff;}#sk-container-id-1 div.sk-label input.sk-toggleable__control:checked~label.sk-toggleable__label {background-color: #d4ebff;}#sk-container-id-1 input.sk-hidden--visually {border: 0;clip: rect(1px 1px 1px 1px);clip: rect(1px, 1px, 1px, 1px);height: 1px;margin: -1px;overflow: hidden;padding: 0;position: absolute;width: 1px;}#sk-container-id-1 div.sk-estimator {font-family: monospace;background-color: #f0f8ff;border: 1px dotted black;border-radius: 0.25em;box-sizing: border-box;margin-bottom: 0.5em;}#sk-container-id-1 div.sk-estimator:hover {background-color: #d4ebff;}#sk-container-id-1 div.sk-parallel-item::after {content: \"\";width: 100%;border-bottom: 1px solid gray;flex-grow: 1;}#sk-container-id-1 div.sk-label:hover label.sk-toggleable__label {background-color: #d4ebff;}#sk-container-id-1 div.sk-serial::before {content: \"\";position: absolute;border-left: 1px solid gray;box-sizing: border-box;top: 0;bottom: 0;left: 50%;z-index: 0;}#sk-container-id-1 div.sk-serial {display: flex;flex-direction: column;align-items: center;background-color: white;padding-right: 0.2em;padding-left: 0.2em;position: relative;}#sk-container-id-1 div.sk-item {position: relative;z-index: 1;}#sk-container-id-1 div.sk-parallel {display: flex;align-items: stretch;justify-content: center;background-color: white;position: relative;}#sk-container-id-1 div.sk-item::before, #sk-container-id-1 div.sk-parallel-item::before {content: \"\";position: absolute;border-left: 1px solid gray;box-sizing: border-box;top: 0;bottom: 0;left: 50%;z-index: -1;}#sk-container-id-1 div.sk-parallel-item {display: flex;flex-direction: column;z-index: 1;position: relative;background-color: white;}#sk-container-id-1 div.sk-parallel-item:first-child::after {align-self: flex-end;width: 50%;}#sk-container-id-1 div.sk-parallel-item:last-child::after {align-self: flex-start;width: 50%;}#sk-container-id-1 div.sk-parallel-item:only-child::after {width: 0;}#sk-container-id-1 div.sk-dashed-wrapped {border: 1px dashed gray;margin: 0 0.4em 0.5em 0.4em;box-sizing: border-box;padding-bottom: 0.4em;background-color: white;}#sk-container-id-1 div.sk-label label {font-family: monospace;font-weight: bold;display: inline-block;line-height: 1.2em;}#sk-container-id-1 div.sk-label-container {text-align: center;}#sk-container-id-1 div.sk-container {/* jupyter's `normalize.less` sets `[hidden] { display: none; }` but bootstrap.min.css set `[hidden] { display: none !important; }` so we also need the `!important` here to be able to override the default hidden behavior on the sphinx rendered scikit-learn.org. See: https://github.com/scikit-learn/scikit-learn/issues/21755 */display: inline-block !important;position: relative;}#sk-container-id-1 div.sk-text-repr-fallback {display: none;}</style><div id=\"sk-container-id-1\" class=\"sk-top-container\"><div class=\"sk-text-repr-fallback\"><pre>MLPClassifier()</pre><b>In a Jupyter environment, please rerun this cell to show the HTML representation or trust the notebook. <br />On GitHub, the HTML representation is unable to render, please try loading this page with nbviewer.org.</b></div><div class=\"sk-container\" hidden><div class=\"sk-item\"><div class=\"sk-estimator sk-toggleable\"><input class=\"sk-toggleable__control sk-hidden--visually\" id=\"sk-estimator-id-1\" type=\"checkbox\" checked><label for=\"sk-estimator-id-1\" class=\"sk-toggleable__label sk-toggleable__label-arrow\">MLPClassifier</label><div class=\"sk-toggleable__content\"><pre>MLPClassifier()</pre></div></div></div></div></div>"
      ],
      "text/plain": [
       "MLPClassifier()"
      ]
     },
     "execution_count": 6,
     "metadata": {},
     "output_type": "execute_result"
    }
   ],
   "source": [
    "### Implement MLP\n",
    "from sklearn.neural_network import MLPClassifier\n",
    "\n",
    "mlp_clf = MLPClassifier()\n",
    "\n",
    "mlp_clf.fit(X_train_pca, y_train)\n"
   ]
  },
  {
   "cell_type": "code",
   "execution_count": 7,
   "id": "d419c7ba-df26-4028-a94b-ab46b69853ec",
   "metadata": {},
   "outputs": [],
   "source": [
    "### Execute MLP Model and Print Metrics\n",
    "y_test_pred = mlp_clf.predict(X_test_pca)\n"
   ]
  },
  {
   "cell_type": "code",
   "execution_count": 8,
   "id": "eb97817a",
   "metadata": {},
   "outputs": [
    {
     "name": "stdout",
     "output_type": "stream",
     "text": [
      "Accuracy: 0.2849604221635884\n",
      "F1 Score: 0.2854603459397499\n",
      "Confusion Matrix:\n",
      "[[17 16 11  3  3  3  6]\n",
      " [10 20 16  2  2  7  8]\n",
      " [15  3 24  3  6  4 12]\n",
      " [ 6  8  5  4  1  1  4]\n",
      " [ 8  8 12  4 20  7 13]\n",
      " [ 3  4  4  0  5  5  4]\n",
      " [ 7  7 15  1  9  5 18]]\n",
      "Classification Report:\n",
      "              precision    recall  f1-score   support\n",
      "\n",
      "           0       0.26      0.29      0.27        59\n",
      "           1       0.30      0.31      0.31        65\n",
      "           2       0.28      0.36      0.31        67\n",
      "           3       0.24      0.14      0.17        29\n",
      "           4       0.43      0.28      0.34        72\n",
      "           5       0.16      0.20      0.18        25\n",
      "           6       0.28      0.29      0.28        62\n",
      "\n",
      "    accuracy                           0.28       379\n",
      "   macro avg       0.28      0.27      0.27       379\n",
      "weighted avg       0.30      0.28      0.29       379\n",
      "\n"
     ]
    }
   ],
   "source": [
    "# Calculate accuracy\n",
    "accuracy = accuracy_score(y_test, y_test_pred)\n",
    "print(\"Accuracy:\", accuracy)\n",
    "\n",
    "# Calculate F1 score\n",
    "f1 = f1_score(y_test, y_test_pred, average='weighted')\n",
    "print(\"F1 Score:\", f1)\n",
    "\n",
    "# Generate confusion matrix\n",
    "conf_matrix = confusion_matrix(y_test, y_test_pred)\n",
    "print(\"Confusion Matrix:\")\n",
    "print(conf_matrix)\n",
    "\n",
    "# # Generate ROC curve\n",
    "# fpr, tpr, thresholds = roc_curve(y_test, y_test_pred)\n",
    "# roc_auc = auc(fpr, tpr)\n",
    "\n",
    "# # Plot ROC curve\n",
    "# roc_display = RocCurveDisplay(fpr=fpr, tpr=tpr, roc_auc=roc_auc, estimator_name='MLP Classifier')\n",
    "# roc_display.plot()\n",
    "# plt.title('Receiver Operating Characteristic (ROC) Curve')\n",
    "# plt.xlabel('False Positive Rate')\n",
    "# plt.ylabel('True Positive Rate')\n",
    "# plt.show()\n",
    "\n",
    "# Generate classification report\n",
    "class_report = classification_report(y_test, y_test_pred)\n",
    "print(\"Classification Report:\")\n",
    "print(class_report)"
   ]
  },
  {
   "cell_type": "code",
   "execution_count": null,
   "id": "1ac6b9e6",
   "metadata": {},
   "outputs": [
    {
     "name": "stdout",
     "output_type": "stream",
     "text": [
      "Fitting 5 folds for each of 588 candidates, totalling 2940 fits\n"
     ]
    },
    {
     "name": "stderr",
     "output_type": "stream",
     "text": [
      "D:\\Anaconda\\Lib\\site-packages\\sklearn\\neural_network\\_multilayer_perceptron.py:691: ConvergenceWarning: Stochastic Optimizer: Maximum iterations (200) reached and the optimization hasn't converged yet.\n",
      "  warnings.warn(\n",
      "D:\\Anaconda\\Lib\\site-packages\\sklearn\\neural_network\\_multilayer_perceptron.py:691: ConvergenceWarning: Stochastic Optimizer: Maximum iterations (200) reached and the optimization hasn't converged yet.\n",
      "  warnings.warn(\n",
      "D:\\Anaconda\\Lib\\site-packages\\sklearn\\neural_network\\_multilayer_perceptron.py:691: ConvergenceWarning: Stochastic Optimizer: Maximum iterations (200) reached and the optimization hasn't converged yet.\n",
      "  warnings.warn(\n",
      "D:\\Anaconda\\Lib\\site-packages\\sklearn\\neural_network\\_multilayer_perceptron.py:691: ConvergenceWarning: Stochastic Optimizer: Maximum iterations (200) reached and the optimization hasn't converged yet.\n",
      "  warnings.warn(\n",
      "D:\\Anaconda\\Lib\\site-packages\\sklearn\\neural_network\\_multilayer_perceptron.py:691: ConvergenceWarning: Stochastic Optimizer: Maximum iterations (200) reached and the optimization hasn't converged yet.\n",
      "  warnings.warn(\n",
      "D:\\Anaconda\\Lib\\site-packages\\sklearn\\neural_network\\_multilayer_perceptron.py:691: ConvergenceWarning: Stochastic Optimizer: Maximum iterations (500) reached and the optimization hasn't converged yet.\n",
      "  warnings.warn(\n",
      "D:\\Anaconda\\Lib\\site-packages\\sklearn\\neural_network\\_multilayer_perceptron.py:691: ConvergenceWarning: Stochastic Optimizer: Maximum iterations (500) reached and the optimization hasn't converged yet.\n",
      "  warnings.warn(\n",
      "D:\\Anaconda\\Lib\\site-packages\\sklearn\\neural_network\\_multilayer_perceptron.py:691: ConvergenceWarning: Stochastic Optimizer: Maximum iterations (500) reached and the optimization hasn't converged yet.\n",
      "  warnings.warn(\n",
      "D:\\Anaconda\\Lib\\site-packages\\sklearn\\neural_network\\_multilayer_perceptron.py:691: ConvergenceWarning: Stochastic Optimizer: Maximum iterations (500) reached and the optimization hasn't converged yet.\n",
      "  warnings.warn(\n",
      "D:\\Anaconda\\Lib\\site-packages\\sklearn\\neural_network\\_multilayer_perceptron.py:691: ConvergenceWarning: Stochastic Optimizer: Maximum iterations (500) reached and the optimization hasn't converged yet.\n",
      "  warnings.warn(\n",
      "D:\\Anaconda\\Lib\\site-packages\\sklearn\\neural_network\\_multilayer_perceptron.py:698: UserWarning: Training interrupted by user.\n",
      "  warnings.warn(\"Training interrupted by user.\")\n",
      "D:\\Anaconda\\Lib\\site-packages\\sklearn\\neural_network\\_multilayer_perceptron.py:691: ConvergenceWarning: Stochastic Optimizer: Maximum iterations (1000) reached and the optimization hasn't converged yet.\n",
      "  warnings.warn(\n",
      "D:\\Anaconda\\Lib\\site-packages\\sklearn\\neural_network\\_multilayer_perceptron.py:691: ConvergenceWarning: Stochastic Optimizer: Maximum iterations (1000) reached and the optimization hasn't converged yet.\n",
      "  warnings.warn(\n",
      "D:\\Anaconda\\Lib\\site-packages\\sklearn\\neural_network\\_multilayer_perceptron.py:691: ConvergenceWarning: Stochastic Optimizer: Maximum iterations (1000) reached and the optimization hasn't converged yet.\n",
      "  warnings.warn(\n",
      "D:\\Anaconda\\Lib\\site-packages\\sklearn\\neural_network\\_multilayer_perceptron.py:698: UserWarning: Training interrupted by user.\n",
      "  warnings.warn(\"Training interrupted by user.\")\n",
      "D:\\Anaconda\\Lib\\site-packages\\sklearn\\neural_network\\_multilayer_perceptron.py:698: UserWarning: Training interrupted by user.\n",
      "  warnings.warn(\"Training interrupted by user.\")\n",
      "D:\\Anaconda\\Lib\\site-packages\\sklearn\\neural_network\\_multilayer_perceptron.py:698: UserWarning: Training interrupted by user.\n",
      "  warnings.warn(\"Training interrupted by user.\")\n",
      "D:\\Anaconda\\Lib\\site-packages\\sklearn\\neural_network\\_multilayer_perceptron.py:698: UserWarning: Training interrupted by user.\n",
      "  warnings.warn(\"Training interrupted by user.\")\n",
      "D:\\Anaconda\\Lib\\site-packages\\sklearn\\neural_network\\_multilayer_perceptron.py:698: UserWarning: Training interrupted by user.\n",
      "  warnings.warn(\"Training interrupted by user.\")\n",
      "D:\\Anaconda\\Lib\\site-packages\\sklearn\\neural_network\\_multilayer_perceptron.py:698: UserWarning: Training interrupted by user.\n",
      "  warnings.warn(\"Training interrupted by user.\")\n",
      "D:\\Anaconda\\Lib\\site-packages\\sklearn\\neural_network\\_multilayer_perceptron.py:698: UserWarning: Training interrupted by user.\n",
      "  warnings.warn(\"Training interrupted by user.\")\n",
      "D:\\Anaconda\\Lib\\site-packages\\sklearn\\neural_network\\_multilayer_perceptron.py:691: ConvergenceWarning: Stochastic Optimizer: Maximum iterations (2000) reached and the optimization hasn't converged yet.\n",
      "  warnings.warn(\n",
      "D:\\Anaconda\\Lib\\site-packages\\sklearn\\neural_network\\_multilayer_perceptron.py:691: ConvergenceWarning: Stochastic Optimizer: Maximum iterations (2000) reached and the optimization hasn't converged yet.\n",
      "  warnings.warn(\n"
     ]
    }
   ],
   "source": [
    "# Hyper Parameter tuning\n",
    "param_grid = {\n",
    "    'hidden_layer_sizes': [(50,), (100,), (50, 50), (100, 50)],\n",
    "    'activation': ['logistic', 'tanh', 'relu', 'leaky_relu', 'elu', 'softplus', 'swish'],\n",
    "    'alpha': [0.0001, 0.001, 0.01],\n",
    "    'max_iter': [200, 500, 1000, 1500, 2000, 2500, 3000]\n",
    "}\n",
    "\n",
    "grid_search = GridSearchCV(mlp_clf, param_grid, cv=5, scoring='accuracy', verbose=1)\n",
    "\n",
    "\n",
    "grid_search.fit(X_val_pca, y_val)\n",
    "\n",
    "print(\"Best parameters found:\")\n",
    "print(grid_search.best_params_)"
   ]
  },
  {
   "cell_type": "code",
   "execution_count": 17,
   "id": "bd5af559",
   "metadata": {},
   "outputs": [
    {
     "name": "stdout",
     "output_type": "stream",
     "text": [
      "Test Accuracy with best parameters: 0.3087071240105541\n"
     ]
    }
   ],
   "source": [
    "# Best parameters found:\n",
    "# {'activation': 'logistic', 'alpha': 0.0001, 'hidden_layer_sizes': (50, 50), 'max_iter': 200}\n",
    "\n",
    "# Create MLPClassifier with increased max_iter\n",
    "best_mlp_clf = MLPClassifier(activation='logistic', alpha=0.0001, hidden_layer_sizes=(50, 50), max_iter=1500)\n",
    "\n",
    "# Train the model\n",
    "best_mlp_clf.fit(X_train_pca, y_train)\n",
    "\n",
    "# Evaluate performance on test set\n",
    "test_accuracy = best_mlp_clf.score(X_test_pca, y_test)\n",
    "print(\"Test Accuracy with best parameters:\", test_accuracy)\n",
    "\n"
   ]
  },
  {
   "cell_type": "code",
   "execution_count": null,
   "id": "e0ac55c5",
   "metadata": {},
   "outputs": [],
   "source": []
  }
 ],
 "metadata": {
  "kernelspec": {
   "display_name": "Python 3 (ipykernel)",
   "language": "python",
   "name": "python3"
  },
  "language_info": {
   "codemirror_mode": {
    "name": "ipython",
    "version": 3
   },
   "file_extension": ".py",
   "mimetype": "text/x-python",
   "name": "python",
   "nbconvert_exporter": "python",
   "pygments_lexer": "ipython3",
   "version": "3.11.4"
  }
 },
 "nbformat": 4,
 "nbformat_minor": 5
}
