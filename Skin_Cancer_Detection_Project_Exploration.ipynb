{
 "cells": [
  {
   "cell_type": "code",
   "execution_count": 3,
   "id": "15fd5d6c-f38a-4f0d-be11-bf63fbefb889",
   "metadata": {},
   "outputs": [],
   "source": [
    "#AUTHORS: Nithin Prasad, Murtadha Nisyif, Arpit Vaghela\n",
    "\n",
    "### Class and Library Imports [FUNCTIONAL]\n",
    "import sklearn #Scikit Learn\n",
    "\n",
    "import pandas as pd\n",
    "import numpy as np\n",
    "\n",
    "import matplotlib.pyplot as plt\n",
    "import seaborn as sns\n",
    "from scipy.stats import norm\n",
    "from scipy import stats\n",
    "from pandas import read_csv\n",
    "from pandas import DataFrame\n",
    "\n",
    "from sklearn import preprocessing\n",
    "from sklearn.model_selection import train_test_split\n",
    "from sklearn import metrics\n",
    "from sklearn.preprocessing import StandardScaler, MinMaxScaler\n",
    "\n",
    "from sklearn.linear_model import LogisticRegression\n",
    "from sklearn.neighbors import KNeighborsClassifier\n",
    "from sklearn.naive_bayes import GaussianNB\n",
    "from sklearn.tree import DecisionTreeClassifier\n",
    "from sklearn.svm import SVC\n",
    "from sklearn.metrics import accuracy_score, f1_score, confusion_matrix, roc_curve, auc, RocCurveDisplay, classification_report\n",
    "import matplotlib.pyplot as plt\n",
    "\n",
    "from sklearn.model_selection import GridSearchCV\n",
    "\n",
    "from sklearn.feature_selection import SequentialFeatureSelector\n",
    "\n",
    "from imblearn.over_sampling import SMOTE\n",
    "\n",
    "import random\n",
    "\n",
    "import matplotlib.pyplot as plt\n",
    "\n",
    "pd.set_option('display.max_columns', None)"
   ]
  },
  {
   "cell_type": "code",
   "execution_count": 4,
   "id": "0b950702-2346-4d52-96f2-d572f4e7c063",
   "metadata": {},
   "outputs": [
    {
     "name": "stdout",
     "output_type": "stream",
     "text": [
      "Hello\n",
      "<class 'pandas.core.frame.DataFrame'>\n",
      "RangeIndex: 10015 entries, 0 to 10014\n",
      "Columns: 785 entries, pixel0000 to label\n",
      "dtypes: int64(785)\n",
      "memory usage: 60.0 MB\n",
      "None\n"
     ]
    }
   ],
   "source": [
    "### Data Exploration with the 28x28 image csv [FUNCTIONAL]\n",
    "\n",
    "print(\"Hello\")\n",
    "project_df = pd.read_csv('data/hmnist_28_28_L.csv')\n",
    "project_df.head(n=4)\n",
    "print(project_df.info())"
   ]
  },
  {
   "cell_type": "code",
   "execution_count": 5,
   "id": "ff3d32b6-e24a-4031-91ac-74e4bfb20a21",
   "metadata": {},
   "outputs": [
    {
     "name": "stdout",
     "output_type": "stream",
     "text": [
      "----- LABEL CHECK -----\n",
      "Number of labels of class 0 : 327\n",
      "Number of labels of class 1 : 514\n",
      "Number of labels of class 2 : 1099\n",
      "Number of labels of class 3 : 115\n",
      "Number of labels of class 4 : 6705\n",
      "Number of labels of class 5 : 142\n",
      "Number of labels of class 6 : 1113\n",
      "Total number of labels: 10015\n"
     ]
    }
   ],
   "source": [
    "### Check Dataset Balance [FUNCTIONAL]\n",
    "pixel_features = []\n",
    "for i in range(784):\n",
    "    str_i = str(i)\n",
    "    len_suffix = len(str_i)\n",
    "    pixel_feature = \"pixel\" + \"0\"*(4-len_suffix) + str_i\n",
    "    #print(pixel_name)\n",
    "    pixel_features.append(pixel_feature)\n",
    "\n",
    "#X = project_df.drop('label', axis = 1)\n",
    "Y = project_df['label']\n",
    "\n",
    "#Double check the number of Labels in set\n",
    "def check_set_balance(inp_set):\n",
    "    val_counts = inp_set.value_counts()\n",
    "    total_labels = 0\n",
    "    #print(type(val_counts))\n",
    "    for i in range(7):\n",
    "        num_i = val_counts[i]\n",
    "        print(\"Number of labels of class\",i,\":\",num_i)\n",
    "        total_labels += num_i\n",
    "        \n",
    "    print(\"Total number of labels:\",total_labels)\n",
    "\n",
    "print('----- LABEL CHECK -----')\n",
    "check_set_balance(Y)"
   ]
  },
  {
   "cell_type": "code",
   "execution_count": 6,
   "id": "04efba8e-a6a4-49fc-a523-5572bcb2b049",
   "metadata": {},
   "outputs": [
    {
     "name": "stdout",
     "output_type": "stream",
     "text": [
      "785\n",
      "<class 'list'>\n",
      "[20, 24, 76, 131, 156, 169, 175, 185, 194, 190, 191, 190, 192, 186, 187, 188, 189, 184, 185, 180, 173, 136, 98, 59, 53, 56, 44, 30, 16, 49, 110, 156, 171, 168, 177, 189, 195, 197, 196, 194, 184, 189, 186, 187, 185, 181, 183, 193, 192, 166, 135, 83, 48, 55, 49, 34, 25, 87, 142, 175, 183, 173, 178, 191, 197, 205, 195, 175, 166, 168, 184, 178, 181, 184, 183, 195, 191, 183, 160, 112, 56, 47, 51, 39, 47, 116, 161, 184, 190, 185, 195, 190, 181, 197, 179, 167, 166, 163, 171, 170, 169, 170, 181, 192, 188, 187, 165, 136, 80, 44, 49, 42, 83, 138, 174, 188, 196, 190, 194, 178, 169, 171, 171, 175, 167, 165, 163, 164, 155, 161, 176, 186, 190, 178, 171, 154, 110, 51, 44, 44, 113, 157, 179, 191, 192, 197, 187, 168, 176, 176, 176, 179, 172, 161, 163, 163, 159, 162, 176, 179, 185, 178, 177, 175, 136, 69, 38, 43, 134, 165, 180, 187, 197, 191, 188, 170, 175, 176, 174, 180, 183, 167, 166, 175, 167, 164, 179, 185, 182, 189, 196, 189, 153, 86, 37, 39, 148, 171, 178, 190, 202, 197, 194, 170, 169, 180, 175, 177, 185, 182, 171, 178, 176, 162, 175, 180, 186, 198, 201, 199, 169, 106, 43, 35, 155, 170, 180, 197, 202, 200, 181, 164, 169, 181, 183, 180, 179, 185, 176, 171, 171, 154, 173, 181, 198, 200, 195, 201, 178, 128, 51, 30, 163, 174, 181, 195, 203, 194, 176, 162, 166, 179, 187, 185, 183, 174, 176, 171, 152, 158, 186, 191, 195, 197, 193, 193, 187, 138, 60, 28, 173, 181, 181, 191, 203, 185, 169, 159, 160, 175, 191, 194, 186, 171, 164, 174, 168, 188, 194, 195, 191, 197, 192, 196, 181, 139, 66, 25, 173, 186, 185, 192, 201, 194, 168, 167, 167, 178, 189, 180, 193, 195, 177, 177, 191, 198, 194, 195, 187, 185, 190, 192, 179, 146, 75, 23, 170, 182, 194, 197, 193, 201, 190, 167, 171, 162, 173, 172, 198, 205, 198, 186, 183, 201, 202, 191, 186, 182, 192, 190, 188, 160, 82, 22, 170, 180, 191, 194, 168, 180, 192, 174, 179, 157, 180, 190, 188, 198, 182, 175, 190, 196, 192, 188, 188, 183, 195, 192, 186, 160, 86, 20, 174, 180, 184, 200, 200, 188, 175, 180, 184, 176, 189, 193, 191, 184, 177, 181, 189, 188, 184, 181, 179, 180, 187, 188, 185, 155, 82, 18, 167, 187, 192, 193, 204, 197, 173, 172, 182, 183, 183, 190, 190, 184, 179, 186, 178, 185, 185, 177, 183, 191, 182, 175, 189, 149, 72, 15, 169, 187, 193, 196, 200, 191, 185, 173, 175, 181, 177, 166, 193, 188, 191, 188, 173, 170, 177, 176, 194, 197, 189, 190, 189, 150, 62, 13, 167, 184, 192, 203, 202, 199, 191, 172, 172, 186, 179, 152, 177, 176, 191, 188, 170, 174, 164, 175, 205, 204, 194, 192, 182, 145, 51, 11, 157, 185, 191, 200, 208, 207, 186, 171, 164, 181, 174, 162, 169, 178, 183, 183, 182, 170, 165, 174, 197, 206, 195, 192, 172, 130, 38, 11, 141, 179, 186, 184, 199, 204, 202, 167, 156, 171, 164, 167, 157, 157, 177, 180, 171, 163, 168, 175, 200, 202, 195, 197, 170, 112, 29, 11, 125, 172, 184, 181, 184, 198, 203, 169, 164, 173, 160, 157, 153, 157, 176, 179, 165, 158, 168, 180, 200, 198, 192, 193, 161, 95, 22, 10, 103, 157, 181, 184, 192, 195, 197, 198, 207, 184, 154, 149, 151, 151, 178, 176, 158, 156, 167, 181, 198, 187, 179, 174, 134, 63, 12, 12, 81, 131, 171, 183, 187, 193, 196, 198, 203, 194, 154, 140, 133, 161, 172, 165, 155, 152, 159, 179, 189, 178, 179, 155, 98, 26, 12, 10, 63, 114, 155, 177, 181, 189, 198, 196, 201, 198, 169, 143, 140, 161, 162, 162, 154, 155, 165, 183, 182, 178, 168, 133, 63, 14, 15, 7, 52, 85, 132, 166, 185, 182, 192, 195, 198, 196, 189, 158, 150, 160, 164, 162, 146, 153, 180, 183, 173, 171, 152, 101, 30, 16, 14, 5, 53, 60, 107, 153, 175, 175, 185, 186, 193, 190, 199, 186, 164, 174, 170, 156, 137, 151, 174, 173, 170, 155, 122, 56, 17, 19, 10, 3, 56, 55, 73, 117, 153, 176, 178, 188, 189, 180, 187, 197, 186, 185, 182, 168, 165, 164, 171, 172, 161, 126, 71, 24, 21, 17, 7, 2, 51, 59, 56, 81, 124, 155, 169, 180, 185, 178, 166, 188, 182, 183, 186, 180, 180, 165, 155, 159, 129, 82, 35, 23, 22, 13, 4, 3, 0]\n",
      "[20, 24, 76, 131, 156, 169, 175, 185, 194, 190, 191, 190, 192, 186, 187, 188, 189, 184, 185, 180, 173, 136, 98, 59, 53, 56, 44, 30, 16, 49, 110, 156, 171, 168, 177, 189, 195, 197, 196, 194, 184, 189, 186, 187, 185, 181, 183, 193, 192, 166, 135, 83, 48, 55, 49, 34, 25, 87, 142, 175, 183, 173, 178, 191, 197, 205, 195, 175, 166, 168, 184, 178, 181, 184, 183, 195, 191, 183, 160, 112, 56, 47, 51, 39, 47, 116, 161, 184, 190, 185, 195, 190, 181, 197, 179, 167, 166, 163, 171, 170, 169, 170, 181, 192, 188, 187, 165, 136, 80, 44, 49, 42, 83, 138, 174, 188, 196, 190, 194, 178, 169, 171, 171, 175, 167, 165, 163, 164, 155, 161, 176, 186, 190, 178, 171, 154, 110, 51, 44, 44, 113, 157, 179, 191, 192, 197, 187, 168, 176, 176, 176, 179, 172, 161, 163, 163, 159, 162, 176, 179, 185, 178, 177, 175, 136, 69, 38, 43, 134, 165, 180, 187, 197, 191, 188, 170, 175, 176, 174, 180, 183, 167, 166, 175, 167, 164, 179, 185, 182, 189, 196, 189, 153, 86, 37, 39, 148, 171, 178, 190, 202, 197, 194, 170, 169, 180, 175, 177, 185, 182, 171, 178, 176, 162, 175, 180, 186, 198, 201, 199, 169, 106, 43, 35, 155, 170, 180, 197, 202, 200, 181, 164, 169, 181, 183, 180, 179, 185, 176, 171, 171, 154, 173, 181, 198, 200, 195, 201, 178, 128, 51, 30, 163, 174, 181, 195, 203, 194, 176, 162, 166, 179, 187, 185, 183, 174, 176, 171, 152, 158, 186, 191, 195, 197, 193, 193, 187, 138, 60, 28, 173, 181, 181, 191, 203, 185, 169, 159, 160, 175, 191, 194, 186, 171, 164, 174, 168, 188, 194, 195, 191, 197, 192, 196, 181, 139, 66, 25, 173, 186, 185, 192, 201, 194, 168, 167, 167, 178, 189, 180, 193, 195, 177, 177, 191, 198, 194, 195, 187, 185, 190, 192, 179, 146, 75, 23, 170, 182, 194, 197, 193, 201, 190, 167, 171, 162, 173, 172, 198, 205, 198, 186, 183, 201, 202, 191, 186, 182, 192, 190, 188, 160, 82, 22, 170, 180, 191, 194, 168, 180, 192, 174, 179, 157, 180, 190, 188, 198, 182, 175, 190, 196, 192, 188, 188, 183, 195, 192, 186, 160, 86, 20, 174, 180, 184, 200, 200, 188, 175, 180, 184, 176, 189, 193, 191, 184, 177, 181, 189, 188, 184, 181, 179, 180, 187, 188, 185, 155, 82, 18, 167, 187, 192, 193, 204, 197, 173, 172, 182, 183, 183, 190, 190, 184, 179, 186, 178, 185, 185, 177, 183, 191, 182, 175, 189, 149, 72, 15, 169, 187, 193, 196, 200, 191, 185, 173, 175, 181, 177, 166, 193, 188, 191, 188, 173, 170, 177, 176, 194, 197, 189, 190, 189, 150, 62, 13, 167, 184, 192, 203, 202, 199, 191, 172, 172, 186, 179, 152, 177, 176, 191, 188, 170, 174, 164, 175, 205, 204, 194, 192, 182, 145, 51, 11, 157, 185, 191, 200, 208, 207, 186, 171, 164, 181, 174, 162, 169, 178, 183, 183, 182, 170, 165, 174, 197, 206, 195, 192, 172, 130, 38, 11, 141, 179, 186, 184, 199, 204, 202, 167, 156, 171, 164, 167, 157, 157, 177, 180, 171, 163, 168, 175, 200, 202, 195, 197, 170, 112, 29, 11, 125, 172, 184, 181, 184, 198, 203, 169, 164, 173, 160, 157, 153, 157, 176, 179, 165, 158, 168, 180, 200, 198, 192, 193, 161, 95, 22, 10, 103, 157, 181, 184, 192, 195, 197, 198, 207, 184, 154, 149, 151, 151, 178, 176, 158, 156, 167, 181, 198, 187, 179, 174, 134, 63, 12, 12, 81, 131, 171, 183, 187, 193, 196, 198, 203, 194, 154, 140, 133, 161, 172, 165, 155, 152, 159, 179, 189, 178, 179, 155, 98, 26, 12, 10, 63, 114, 155, 177, 181, 189, 198, 196, 201, 198, 169, 143, 140, 161, 162, 162, 154, 155, 165, 183, 182, 178, 168, 133, 63, 14, 15, 7, 52, 85, 132, 166, 185, 182, 192, 195, 198, 196, 189, 158, 150, 160, 164, 162, 146, 153, 180, 183, 173, 171, 152, 101, 30, 16, 14, 5, 53, 60, 107, 153, 175, 175, 185, 186, 193, 190, 199, 186, 164, 174, 170, 156, 137, 151, 174, 173, 170, 155, 122, 56, 17, 19, 10, 3, 56, 55, 73, 117, 153, 176, 178, 188, 189, 180, 187, 197, 186, 185, 182, 168, 165, 164, 171, 172, 161, 126, 71, 24, 21, 17, 7, 2, 51, 59, 56, 81, 124, 155, 169, 180, 185, 178, 166, 188, 182, 183, 186, 180, 180, 165, 155, 159, 129, 82, 35, 23, 22, 13, 4, 3]\n"
     ]
    },
    {
     "data": {
      "image/png": "[encoded data removed]",
      "text/plain": [
       "<Figure size 640x480 with 1 Axes>"
      ]
     },
     "metadata": {},
     "output_type": "display_data"
    }
   ],
   "source": [
    "### Get and Display a sample row of the data [DEMO]\n",
    "project_df.loc[project_df['label'] == 0]\n",
    "sample_image_vec = list(project_df.iloc[9687])\n",
    "print(len(sample_image_vec))\n",
    "print(type(sample_image_vec))\n",
    "print(sample_image_vec)\n",
    "sample_image_vec.pop(-1)\n",
    "print(sample_image_vec)\n",
    "sample_image_vec = np.array(sample_image_vec)\n",
    "sample_image = np.reshape(sample_image_vec,(28,28))\n",
    "#print(sample_image)\n",
    "plt.imshow(sample_image,cmap='gray')\n",
    "plt.title('Grayscale Image')\n",
    "plt.axis('off')\n",
    "plt.show()"
   ]
  },
  {
   "cell_type": "code",
   "execution_count": 9,
   "id": "0d16c6ae-9822-40a2-9745-506217f78787",
   "metadata": {},
   "outputs": [
    {
     "name": "stdout",
     "output_type": "stream",
     "text": [
      "1892\n",
      "<class 'pandas.core.frame.DataFrame'>\n",
      "Index: 1892 entries, 0 to 10014\n",
      "Columns: 785 entries, pixel0000 to label\n",
      "dtypes: int64(785)\n",
      "memory usage: 11.3 MB\n",
      "None\n"
     ]
    }
   ],
   "source": [
    "### Employ a pseudo-balancing of the data.\n",
    "### Uses all of Class 3 (115 images), Class 5 (142 images) and only 327 random images from classes [0,1,2,4,6].\n",
    "\n",
    "row_indices = []\n",
    "\n",
    "for label_i in range(7):\n",
    "    # Find all the rows of the dataframe corresponding to label i\n",
    "    rows_of_i = project_df.loc[project_df['label'] == label_i]\n",
    "    indices_of_i = list(rows_of_i.index)\n",
    "    indices_of_i_random = random.sample(indices_of_i,min(327,len(rows_of_i)))\n",
    "\n",
    "    row_indices.extend(indices_of_i_random)\n",
    "\n",
    "row_indices.sort()\n",
    "\n",
    "print(len(row_indices)) #Should print 1892.\n",
    "\n",
    "working_df = project_df.iloc[row_indices]\n",
    "print(working_df.info())\n",
    "# print(working_df.head(n=5))\n",
    "\n",
    "### save the working df as a csv file\n",
    "# working_df.to_csv(\"./data/skin_cancer_dataset.csv\", index=False)"
   ]
  },
  {
   "cell_type": "code",
   "execution_count": 11,
   "id": "7bf10dcc-dda9-4a15-9e06-d87c9dc584ac",
   "metadata": {},
   "outputs": [
    {
     "data": {
      "text/plain": [
       "(1135, 378, 379)"
      ]
     },
     "execution_count": 11,
     "metadata": {},
     "output_type": "execute_result"
    }
   ],
   "source": [
    "### Do Train-Validation-Test Split on the Data (eg. 60/20/20)\n",
    "\n",
    "#read csv\n",
    "df = pd.read_csv('./data/skin_cancer_dataset.csv')\n",
    "\n",
    "#separate the features and labels\n",
    "X = df.drop(columns=['label'])\n",
    "y = df['label']\n",
    "\n",
    "#split 60-40 for training dataset and a temp dataset that will be split to 50-50\n",
    "X_train, X_temp, y_train, y_temp = train_test_split(X, y, test_size=0.4, random_state=42)\n",
    "\n",
    "# Second split of the temporary set: 50% for validation and 50% for test set\n",
    "X_val, X_test, y_val, y_test = train_test_split(X_temp, y_temp, test_size=0.5, random_state=42)\n",
    "\n",
    "#sanity check\n",
    "sizes = (len(X_train), len(X_val), len(X_test))\n",
    "sizes"
   ]
  },
  {
   "cell_type": "code",
   "execution_count": 20,
   "id": "ffed339d-a3f0-43b9-bbf8-f9a8d94b2299",
   "metadata": {},
   "outputs": [
    {
     "data": {
      "text/plain": [
       "(1135, 56)"
      ]
     },
     "execution_count": 20,
     "metadata": {},
     "output_type": "execute_result"
    }
   ],
   "source": [
    "### Apply PCA (fit the PCA matrix using ONLY the training portion of the dataset). Transform each separately\n",
    "from sklearn.decomposition import PCA\n",
    "\n",
    "# fit pca on the training set only\n",
    "pca = PCA(n_components=0.95, random_state=42)\n",
    "X_train_pca = pca.fit_transform(X_train)\n",
    "\n",
    "#sanity check\n",
    "X_train_pca.shape"
   ]
  },
  {
   "cell_type": "code",
   "execution_count": null,
   "id": "67f8817c-0e63-429e-bacf-0f035c85b6aa",
   "metadata": {},
   "outputs": [],
   "source": [
    "### Implement MLP"
   ]
  },
  {
   "cell_type": "code",
   "execution_count": null,
   "id": "d419c7ba-df26-4028-a94b-ab46b69853ec",
   "metadata": {},
   "outputs": [],
   "source": [
    "### Execute MLP Model and Print Metrics"
   ]
  }
 ],
 "metadata": {
  "kernelspec": {
   "display_name": "Python 3 (ipykernel)",
   "language": "python",
   "name": "python3"
  },
  "language_info": {
   "codemirror_mode": {
    "name": "ipython",
    "version": 3
   },
   "file_extension": ".py",
   "mimetype": "text/x-python",
   "name": "python",
   "nbconvert_exporter": "python",
   "pygments_lexer": "ipython3",
   "version": "3.8.5"
  }
 },
 "nbformat": 4,
 "nbformat_minor": 5
}
